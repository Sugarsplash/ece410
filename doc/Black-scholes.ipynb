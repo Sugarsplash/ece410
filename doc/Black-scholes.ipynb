{
 "metadata": {
  "name": "",
  "signature": "sha256:3655fac1d02f88763884891f655c61e8308b46c970219428cd668468cb325bf3"
 },
 "nbformat": 3,
 "nbformat_minor": 0,
 "worksheets": [
  {
   "cells": [
    {
     "cell_type": "markdown",
     "metadata": {},
     "source": [
      "An example of using the black-scholes code\n",
      "\n",
      "by William Harrington\n",
      "\n",
      "## Intro\n",
      "\n",
      "The purpose of this notebook is to explore using the code given in ECE410 for the black-scholes model in python.\n",
      "\n",
      "## Code\n",
      "\n",
      "Below is the code provided in class\n",
      "\n",
      "~~~~~\n",
      "function [callprice,putprice,calldelta,putdelta]=blackscholes(stockprice, strike, riskfree, time, volatility)\n",
      "d1 = (log(stockprice/strike)+(riskfree+.5*volatility^2)*time)/(volatility*sqrt(time));\n",
      "d2 = d1 - volatility*sqrt(time);\n",
      "callprice = stockprice*0.5*erfc(-d1/sqrt(2))-strike*exp(-riskfree*time)*0.5*erfc(-d2/sqrt(2));\n",
      "putprice = strike*exp(-riskfree*time)*0.5*erfc(d2/sqrt(2))-stockprice*0.5*erfc(d1/sqrt(2));\n",
      "calldelta = 0.5*erfc(-d1/sqrt(2));\n",
      "putdelta = calldelta - 1;\n",
      "~~~~~\n",
      "\n",
      "Below is the conversion of this matlab code into python..."
     ]
    },
    {
     "cell_type": "code",
     "collapsed": false,
     "input": [
      "from math import log, erfc, sqrt, exp\n",
      "\n",
      "def blackscholes(stockprice, strike, riskfree, time, volatility):\n",
      "        d1 = (log(stockprice/strike)+(riskfree+.5*volatility**2)*time)/(volatility*sqrt(time))\n",
      "        d2 = d1 - volatility*sqrt(time)\n",
      "\n",
      "        callprice = stockprice*.5*erfc(-d1/sqrt(2))-strike*exp(-riskfree*time)*.5*erfc(-d2/sqrt(2))\n",
      "\n",
      "        putprice = strike*exp(-riskfree*time)*.5*erfc(d2/sqrt(2))-stockprice*.5*erfc(d1/sqrt(2))\n",
      "\n",
      "        calldelta = .5*erfc(-d1/sqrt(2))\n",
      "\n",
      "        putdelta = calldelta - 1\n",
      "\n",
      "        return [callprice, putprice, calldelta, putdelta]"
     ],
     "language": "python",
     "metadata": {},
     "outputs": [],
     "prompt_number": 202
    },
    {
     "cell_type": "markdown",
     "metadata": {},
     "source": [
      "The example from class was as follows\n",
      "\n",
      "~~~~~\n",
      "[callprice,putprice,calldelta,putdelta] = blackscholes(50, 50, 0.1, 0.25, 0.3)\n",
      "~~~~~\n",
      "\n",
      "Which yields the following result\n",
      "\n",
      "~~~~~\n",
      "callprice =  3.6104\n",
      "putprice =  2.3759\n",
      "calldelta =  0.59548\n",
      "putdelta = -0.40452\n",
      "~~~~~\n",
      "\n",
      "We can see that the same result is achieved with the python code below."
     ]
    },
    {
     "cell_type": "code",
     "collapsed": false,
     "input": [
      "blackscholes(50, 50, 0.1, 0.25, 0.3)"
     ],
     "language": "python",
     "metadata": {},
     "outputs": [
      {
       "metadata": {},
       "output_type": "pyout",
       "prompt_number": 203,
       "text": [
        "[3.6104450660840186,\n",
        " 2.3759406675006467,\n",
        " 0.5954807699023611,\n",
        " -0.4045192300976389]"
       ]
      }
     ],
     "prompt_number": 203
    },
    {
     "cell_type": "markdown",
     "metadata": {},
     "source": [
      "## Examples\n",
      "\n",
      "Now we can use this code to do the project. Below is an example of running this code in a loop and finding a calldeltas of 10-90."
     ]
    },
    {
     "cell_type": "code",
     "collapsed": false,
     "input": [
      "# for information on numpy see: http://docs.scipy.org/doc/numpy/reference/\n",
      "import numpy as np\n",
      "\n",
      "# parameters for blackscholes function\n",
      "stockprice = 200.\n",
      "riskfree = 3./100\n",
      "time = 45./365\n",
      "volatility = 18./100\n",
      "\n",
      "# arrays to hold strikes, deltas\n",
      "strikes = []\n",
      "deltas = []\n",
      "\n",
      "# loop for going through blackscholes at different strikes\n",
      "# note: we cannot start at 0\n",
      "for i in np.arange(stockprice-20,stockprice+20, .01):\n",
      "    result = blackscholes(stockprice, float(i), riskfree, time, volatility)\n",
      "    \n",
      "    # for information on numpy.isclose see: http://docs.scipy.org/doc/numpy/reference/generated/numpy.isclose.html\n",
      "    if np.isclose(result[2], .9, rtol=1e-3):\n",
      "        strikes.append(i)\n",
      "        deltas.append(.9)\n",
      "        print 'Strike: %3.2f, Delta = .9' % i\n",
      "        \n",
      "    if np.isclose(result[2], .8, rtol=1e-3):\n",
      "        strikes.append(i)\n",
      "        deltas.append(.8)\n",
      "        print 'Strike: %3.2f, Delta = .8' % i\n",
      "        \n",
      "    if np.isclose(result[2], .7, rtol=1e-3):\n",
      "        strikes.append(i)\n",
      "        deltas.append(.7)\n",
      "        print 'Strike: %3.2f, Delta = .7' % i\n",
      "        \n",
      "    if np.isclose(result[2], .6, rtol=1e-3):\n",
      "        strikes.append(i)\n",
      "        deltas.append(.6)\n",
      "        print 'Strike: %3.2f, Delta = .6' % i\n",
      "        \n",
      "    if np.isclose(result[2], .5, rtol=1e-3):\n",
      "        strikes.append(i)\n",
      "        deltas.append(.5)\n",
      "        print 'Strike: %3.2f, Delta = .5' % i\n",
      "        \n",
      "    if np.isclose(result[2], .4, rtol=1e-3):\n",
      "        strikes.append(i)\n",
      "        deltas.append(.4)\n",
      "        print 'Strike: %3.2f, Delta = .4' % i\n",
      "        \n",
      "    if np.isclose(result[2], .3, rtol=1e-3):\n",
      "        strikes.append(i)\n",
      "        deltas.append(.3)\n",
      "        print 'Strike: %3.2f, Delta = .3' % i\n",
      "        \n",
      "    if np.isclose(result[2], .2, rtol=1e-3):\n",
      "        strikes.append(i)\n",
      "        deltas.append(.2)\n",
      "        print 'Strike: %3.2f, Delta = .2' % i\n",
      "        \n",
      "    if np.isclose(result[2], .1, rtol=1e-3):\n",
      "        strikes.append(i)\n",
      "        deltas.append(.1)\n",
      "        print 'Strike: %3.2f, Delta = .1' % i"
     ],
     "language": "python",
     "metadata": {},
     "outputs": [
      {
       "output_type": "stream",
       "stream": "stdout",
       "text": [
        "Strike: 185.44, Delta = .9\n",
        "Strike: 185.45, Delta = .9\n",
        "Strike: 185.46, Delta = .9\n",
        "Strike: 185.47, Delta = .9\n",
        "Strike: 185.48, Delta = .9\n",
        "Strike: 185.49, Delta = .9\n",
        "Strike: 185.50, Delta = .9\n",
        "Strike: 185.51, Delta = .9\n",
        "Strike: 185.52, Delta = .9\n",
        "Strike: 185.53, Delta = .9\n",
        "Strike: 185.54, Delta = .9\n",
        "Strike: 185.55, Delta = .9\n",
        "Strike: 190.69, Delta = .8"
       ]
      },
      {
       "output_type": "stream",
       "stream": "stdout",
       "text": [
        "\n",
        "Strike: 190.70, Delta = .8\n",
        "Strike: 190.71, Delta = .8\n",
        "Strike: 190.72, Delta = .8\n",
        "Strike: 190.73, Delta = .8\n",
        "Strike: 190.74, Delta = .8\n",
        "Strike: 190.75, Delta = .8\n",
        "Strike: 194.57, Delta = .7"
       ]
      },
      {
       "output_type": "stream",
       "stream": "stdout",
       "text": [
        "\n",
        "Strike: 194.58, Delta = .7\n",
        "Strike: 194.59, Delta = .7\n",
        "Strike: 194.60, Delta = .7\n",
        "Strike: 197.93, Delta = .6"
       ]
      },
      {
       "output_type": "stream",
       "stream": "stdout",
       "text": [
        "\n",
        "Strike: 197.94, Delta = .6\n",
        "Strike: 197.95, Delta = .6\n",
        "Strike: 197.96, Delta = .6\n",
        "Strike: 201.13, Delta = .5"
       ]
      },
      {
       "output_type": "stream",
       "stream": "stdout",
       "text": [
        "\n",
        "Strike: 201.14, Delta = .5\n",
        "Strike: 201.15, Delta = .5\n",
        "Strike: 204.38, Delta = .4"
       ]
      },
      {
       "output_type": "stream",
       "stream": "stdout",
       "text": [
        "\n",
        "Strike: 204.39, Delta = .4\n",
        "Strike: 204.40, Delta = .4\n",
        "Strike: 207.91, Delta = .3"
       ]
      },
      {
       "output_type": "stream",
       "stream": "stdout",
       "text": [
        "\n",
        "Strike: 207.92, Delta = .3\n",
        "Strike: 207.93, Delta = .3\n",
        "Strike: 212.13, Delta = .2"
       ]
      },
      {
       "output_type": "stream",
       "stream": "stdout",
       "text": [
        "\n",
        "Strike: 212.14, Delta = .2\n",
        "Strike: 218.11, Delta = .1"
       ]
      },
      {
       "output_type": "stream",
       "stream": "stdout",
       "text": [
        "\n",
        "Strike: 218.12, Delta = .1\n"
       ]
      }
     ],
     "prompt_number": 204
    },
    {
     "cell_type": "code",
     "collapsed": false,
     "input": [
      "import matplotlib.pylab as plt\n",
      "%matplotlib inline\n",
      "from IPython.display import set_matplotlib_formats\n",
      "\n",
      "plt.plot(strikes, deltas)\n",
      "plt.xlabel('strike price')\n",
      "plt.ylabel(r'$\\Delta$')\n",
      "plt.title('Delta vs. Strike')\n",
      "plt.show()"
     ],
     "language": "python",
     "metadata": {},
     "outputs": [
      {
       "metadata": {},
       "output_type": "display_data",
       "png": "[encoded data removed]",
       "text": [
        "<matplotlib.figure.Figure at 0x10a390510>"
       ]
      }
     ],
     "prompt_number": 206
    }
   ],
   "metadata": {}
  }
 ]
}